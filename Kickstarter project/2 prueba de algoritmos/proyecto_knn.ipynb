{
  "nbformat": 4,
  "nbformat_minor": 0,
  "metadata": {
    "colab": {
      "name": "proyecto_knn",
      "version": "0.3.2",
      "provenance": [],
      "collapsed_sections": []
    },
    "kernelspec": {
      "name": "python3",
      "display_name": "Python 3"
    }
  },
  "cells": [
	{
      "metadata": {
        "id": "uFq7wI79-olu",
        "colab_type": "text"
      },
      "cell_type": "markdown",
      "source": [
		"https://colab.research.google.com/drive/1trlp20kt388usZB0grjc2MKR7i4PV67a"
      ]
    },
    {
      "metadata": {
        "id": "IP7efaZLMEbh",
        "colab_type": "code",
        "colab": {}
      },
      "cell_type": "code",
      "source": [
        "import pandas as pd\n",
        "\n"
      ],
      "execution_count": 0,
      "outputs": []
    },
    {
      "metadata": {
        "id": "BC9vdACvOQVu",
        "colab_type": "code",
        "colab": {}
      },
      "cell_type": "code",
      "source": [
        "datos = pd.read_csv('kickstarter_clean2.csv')\n",
        "categories = pd.Series(datos[['art', 'comics', 'crafts', 'dance','design', 'fashion', 'film & video',\n",
        "                              'food', 'games', 'journalism','music', 'photography',\n",
        "                              'publishing', 'technology', 'theater']].idxmax(axis=1) , name = 'categories')\n",
        "datos_categories = datos.drop(['art', 'comics', 'crafts', 'dance','design', 'fashion', 'film & video',\n",
        "                              'food', 'games', 'journalism','music', 'photography',\n",
        "                              'publishing', 'technology', 'theater', 'AT', 'AU', 'BE', 'CA',\n",
        "                              'CH', 'DE', 'DK', 'ES', 'FR', 'GB', 'HK', 'IE', 'IT', 'JP', 'LU', 'MX',\n",
        "                              'NL', 'NO', 'NZ', 'SE', 'SG', 'US'], axis = 1)#.concat(categories, axis = 1)\n",
        "\n",
        "countries = pd.Series(datos[['AT', 'AU', 'BE', 'CA',\n",
        "       'CH', 'DE', 'DK', 'ES', 'FR', 'GB', 'HK', 'IE', 'IT', 'JP', 'LU', 'MX',\n",
        "       'NL', 'NO', 'NZ', 'SE', 'SG', 'US']].idxmax(axis = 1), name = 'countries')\n",
        "\n",
        "\n",
        "\n",
        "datos_categories = pd.concat([datos_categories, categories, countries], axis = 1)\n",
        "X_categories = datos_categories.drop(['backers_count', 'state', 'usd_pledged', 'duration.1'], axis = 1)\n",
        "Y_categories = datos_categories.state\n",
        "\n",
        "Y = datos.state\n",
        "X = datos.drop(['backers_count', 'state', 'usd_pledged', 'duration.1'], axis = 1)\n"
      ],
      "execution_count": 0,
      "outputs": []
    },
    {
      "metadata": {
        "id": "60JGW2y1PDPZ",
        "colab_type": "code",
        "outputId": "06d71531-703a-4ed0-8bde-dd4c434a55f8",
        "colab": {
          "base_uri": "https://localhost:8080/",
          "height": 363
        }
      },
      "cell_type": "code",
      "source": [
        "X.describe(include='all')"
      ],
      "execution_count": 0,
      "outputs": [
        {
          "output_type": "execute_result",
          "data": {
            "text/html": [
              "<div>\n",
              "<style scoped>\n",
              "    .dataframe tbody tr th:only-of-type {\n",
              "        vertical-align: middle;\n",
              "    }\n",
              "\n",
              "    .dataframe tbody tr th {\n",
              "        vertical-align: top;\n",
              "    }\n",
              "\n",
              "    .dataframe thead th {\n",
              "        text-align: right;\n",
              "    }\n",
              "</style>\n",
              "<table border=\"1\" class=\"dataframe\">\n",
              "  <thead>\n",
              "    <tr style=\"text-align: right;\">\n",
              "      <th></th>\n",
              "      <th>duration</th>\n",
              "      <th>staff_pick</th>\n",
              "      <th>start_backers_count</th>\n",
              "      <th>category_pos</th>\n",
              "      <th>usd_goal</th>\n",
              "      <th>start_usd_pledged_amount</th>\n",
              "      <th>completed_time</th>\n",
              "      <th>AT</th>\n",
              "      <th>AU</th>\n",
              "      <th>BE</th>\n",
              "      <th>...</th>\n",
              "      <th>film &amp; video</th>\n",
              "      <th>food</th>\n",
              "      <th>games</th>\n",
              "      <th>journalism</th>\n",
              "      <th>music</th>\n",
              "      <th>photography</th>\n",
              "      <th>publishing</th>\n",
              "      <th>technology</th>\n",
              "      <th>theater</th>\n",
              "      <th>launched_month</th>\n",
              "    </tr>\n",
              "  </thead>\n",
              "  <tbody>\n",
              "    <tr>\n",
              "      <th>count</th>\n",
              "      <td>2.248700e+04</td>\n",
              "      <td>22487.000000</td>\n",
              "      <td>22487.000000</td>\n",
              "      <td>22487.000000</td>\n",
              "      <td>22487.000000</td>\n",
              "      <td>22487.000000</td>\n",
              "      <td>22487.000000</td>\n",
              "      <td>22487.000000</td>\n",
              "      <td>22487.000000</td>\n",
              "      <td>22487.000000</td>\n",
              "      <td>...</td>\n",
              "      <td>22487.000000</td>\n",
              "      <td>22487.000000</td>\n",
              "      <td>22487.000000</td>\n",
              "      <td>22487.000000</td>\n",
              "      <td>22487.000000</td>\n",
              "      <td>22487.000000</td>\n",
              "      <td>22487.000000</td>\n",
              "      <td>22487.000000</td>\n",
              "      <td>22487.000000</td>\n",
              "      <td>22487.000000</td>\n",
              "    </tr>\n",
              "    <tr>\n",
              "      <th>mean</th>\n",
              "      <td>3.038951e+06</td>\n",
              "      <td>0.090185</td>\n",
              "      <td>56.904256</td>\n",
              "      <td>5.981234</td>\n",
              "      <td>4480.108469</td>\n",
              "      <td>3583.276004</td>\n",
              "      <td>0.477902</td>\n",
              "      <td>0.002579</td>\n",
              "      <td>0.027127</td>\n",
              "      <td>0.004358</td>\n",
              "      <td>...</td>\n",
              "      <td>0.118068</td>\n",
              "      <td>0.062481</td>\n",
              "      <td>0.071686</td>\n",
              "      <td>0.018811</td>\n",
              "      <td>0.092854</td>\n",
              "      <td>0.033264</td>\n",
              "      <td>0.104282</td>\n",
              "      <td>0.064437</td>\n",
              "      <td>0.032908</td>\n",
              "      <td>5.455686</td>\n",
              "    </tr>\n",
              "    <tr>\n",
              "      <th>std</th>\n",
              "      <td>1.077435e+06</td>\n",
              "      <td>0.286454</td>\n",
              "      <td>174.089348</td>\n",
              "      <td>4.307605</td>\n",
              "      <td>4188.815944</td>\n",
              "      <td>16520.805699</td>\n",
              "      <td>0.290850</td>\n",
              "      <td>0.050722</td>\n",
              "      <td>0.162456</td>\n",
              "      <td>0.065873</td>\n",
              "      <td>...</td>\n",
              "      <td>0.322696</td>\n",
              "      <td>0.242032</td>\n",
              "      <td>0.257973</td>\n",
              "      <td>0.135860</td>\n",
              "      <td>0.290234</td>\n",
              "      <td>0.179328</td>\n",
              "      <td>0.305633</td>\n",
              "      <td>0.245536</td>\n",
              "      <td>0.178400</td>\n",
              "      <td>3.273636</td>\n",
              "    </tr>\n",
              "    <tr>\n",
              "      <th>min</th>\n",
              "      <td>2.605770e+05</td>\n",
              "      <td>0.000000</td>\n",
              "      <td>0.000000</td>\n",
              "      <td>1.000000</td>\n",
              "      <td>0.923175</td>\n",
              "      <td>0.000000</td>\n",
              "      <td>-0.105892</td>\n",
              "      <td>0.000000</td>\n",
              "      <td>0.000000</td>\n",
              "      <td>0.000000</td>\n",
              "      <td>...</td>\n",
              "      <td>0.000000</td>\n",
              "      <td>0.000000</td>\n",
              "      <td>0.000000</td>\n",
              "      <td>0.000000</td>\n",
              "      <td>0.000000</td>\n",
              "      <td>0.000000</td>\n",
              "      <td>0.000000</td>\n",
              "      <td>0.000000</td>\n",
              "      <td>0.000000</td>\n",
              "      <td>1.000000</td>\n",
              "    </tr>\n",
              "    <tr>\n",
              "      <th>25%</th>\n",
              "      <td>2.592000e+06</td>\n",
              "      <td>0.000000</td>\n",
              "      <td>3.000000</td>\n",
              "      <td>3.000000</td>\n",
              "      <td>1000.000000</td>\n",
              "      <td>101.000000</td>\n",
              "      <td>0.233750</td>\n",
              "      <td>0.000000</td>\n",
              "      <td>0.000000</td>\n",
              "      <td>0.000000</td>\n",
              "      <td>...</td>\n",
              "      <td>0.000000</td>\n",
              "      <td>0.000000</td>\n",
              "      <td>0.000000</td>\n",
              "      <td>0.000000</td>\n",
              "      <td>0.000000</td>\n",
              "      <td>0.000000</td>\n",
              "      <td>0.000000</td>\n",
              "      <td>0.000000</td>\n",
              "      <td>0.000000</td>\n",
              "      <td>2.000000</td>\n",
              "    </tr>\n",
              "    <tr>\n",
              "      <th>50%</th>\n",
              "      <td>2.592000e+06</td>\n",
              "      <td>0.000000</td>\n",
              "      <td>16.000000</td>\n",
              "      <td>5.000000</td>\n",
              "      <td>3000.000000</td>\n",
              "      <td>713.000000</td>\n",
              "      <td>0.477933</td>\n",
              "      <td>0.000000</td>\n",
              "      <td>0.000000</td>\n",
              "      <td>0.000000</td>\n",
              "      <td>...</td>\n",
              "      <td>0.000000</td>\n",
              "      <td>0.000000</td>\n",
              "      <td>0.000000</td>\n",
              "      <td>0.000000</td>\n",
              "      <td>0.000000</td>\n",
              "      <td>0.000000</td>\n",
              "      <td>0.000000</td>\n",
              "      <td>0.000000</td>\n",
              "      <td>0.000000</td>\n",
              "      <td>5.000000</td>\n",
              "    </tr>\n",
              "    <tr>\n",
              "      <th>75%</th>\n",
              "      <td>3.456000e+06</td>\n",
              "      <td>0.000000</td>\n",
              "      <td>49.000000</td>\n",
              "      <td>8.000000</td>\n",
              "      <td>6860.745606</td>\n",
              "      <td>2796.837132</td>\n",
              "      <td>0.727250</td>\n",
              "      <td>0.000000</td>\n",
              "      <td>0.000000</td>\n",
              "      <td>0.000000</td>\n",
              "      <td>...</td>\n",
              "      <td>0.000000</td>\n",
              "      <td>0.000000</td>\n",
              "      <td>0.000000</td>\n",
              "      <td>0.000000</td>\n",
              "      <td>0.000000</td>\n",
              "      <td>0.000000</td>\n",
              "      <td>0.000000</td>\n",
              "      <td>0.000000</td>\n",
              "      <td>0.000000</td>\n",
              "      <td>8.000000</td>\n",
              "    </tr>\n",
              "    <tr>\n",
              "      <th>max</th>\n",
              "      <td>5.187600e+06</td>\n",
              "      <td>1.000000</td>\n",
              "      <td>6304.000000</td>\n",
              "      <td>19.000000</td>\n",
              "      <td>16032.424000</td>\n",
              "      <td>796427.111859</td>\n",
              "      <td>2.009718</td>\n",
              "      <td>1.000000</td>\n",
              "      <td>1.000000</td>\n",
              "      <td>1.000000</td>\n",
              "      <td>...</td>\n",
              "      <td>1.000000</td>\n",
              "      <td>1.000000</td>\n",
              "      <td>1.000000</td>\n",
              "      <td>1.000000</td>\n",
              "      <td>1.000000</td>\n",
              "      <td>1.000000</td>\n",
              "      <td>1.000000</td>\n",
              "      <td>1.000000</td>\n",
              "      <td>1.000000</td>\n",
              "      <td>12.000000</td>\n",
              "    </tr>\n",
              "  </tbody>\n",
              "</table>\n",
              "<p>8 rows × 45 columns</p>\n",
              "</div>"
            ],
            "text/plain": [
              "           duration    staff_pick  start_backers_count  category_pos  \\\n",
              "count  2.248700e+04  22487.000000         22487.000000  22487.000000   \n",
              "mean   3.038951e+06      0.090185            56.904256      5.981234   \n",
              "std    1.077435e+06      0.286454           174.089348      4.307605   \n",
              "min    2.605770e+05      0.000000             0.000000      1.000000   \n",
              "25%    2.592000e+06      0.000000             3.000000      3.000000   \n",
              "50%    2.592000e+06      0.000000            16.000000      5.000000   \n",
              "75%    3.456000e+06      0.000000            49.000000      8.000000   \n",
              "max    5.187600e+06      1.000000          6304.000000     19.000000   \n",
              "\n",
              "           usd_goal  start_usd_pledged_amount  completed_time            AT  \\\n",
              "count  22487.000000              22487.000000    22487.000000  22487.000000   \n",
              "mean    4480.108469               3583.276004        0.477902      0.002579   \n",
              "std     4188.815944              16520.805699        0.290850      0.050722   \n",
              "min        0.923175                  0.000000       -0.105892      0.000000   \n",
              "25%     1000.000000                101.000000        0.233750      0.000000   \n",
              "50%     3000.000000                713.000000        0.477933      0.000000   \n",
              "75%     6860.745606               2796.837132        0.727250      0.000000   \n",
              "max    16032.424000             796427.111859        2.009718      1.000000   \n",
              "\n",
              "                 AU            BE       ...        film & video          food  \\\n",
              "count  22487.000000  22487.000000       ...        22487.000000  22487.000000   \n",
              "mean       0.027127      0.004358       ...            0.118068      0.062481   \n",
              "std        0.162456      0.065873       ...            0.322696      0.242032   \n",
              "min        0.000000      0.000000       ...            0.000000      0.000000   \n",
              "25%        0.000000      0.000000       ...            0.000000      0.000000   \n",
              "50%        0.000000      0.000000       ...            0.000000      0.000000   \n",
              "75%        0.000000      0.000000       ...            0.000000      0.000000   \n",
              "max        1.000000      1.000000       ...            1.000000      1.000000   \n",
              "\n",
              "              games    journalism         music   photography    publishing  \\\n",
              "count  22487.000000  22487.000000  22487.000000  22487.000000  22487.000000   \n",
              "mean       0.071686      0.018811      0.092854      0.033264      0.104282   \n",
              "std        0.257973      0.135860      0.290234      0.179328      0.305633   \n",
              "min        0.000000      0.000000      0.000000      0.000000      0.000000   \n",
              "25%        0.000000      0.000000      0.000000      0.000000      0.000000   \n",
              "50%        0.000000      0.000000      0.000000      0.000000      0.000000   \n",
              "75%        0.000000      0.000000      0.000000      0.000000      0.000000   \n",
              "max        1.000000      1.000000      1.000000      1.000000      1.000000   \n",
              "\n",
              "         technology       theater  launched_month  \n",
              "count  22487.000000  22487.000000    22487.000000  \n",
              "mean       0.064437      0.032908        5.455686  \n",
              "std        0.245536      0.178400        3.273636  \n",
              "min        0.000000      0.000000        1.000000  \n",
              "25%        0.000000      0.000000        2.000000  \n",
              "50%        0.000000      0.000000        5.000000  \n",
              "75%        0.000000      0.000000        8.000000  \n",
              "max        1.000000      1.000000       12.000000  \n",
              "\n",
              "[8 rows x 45 columns]"
            ]
          },
          "metadata": {
            "tags": []
          },
          "execution_count": 3
        }
      ]
    },
    {
      "metadata": {
        "id": "X5x5OuCFPpId",
        "colab_type": "code",
        "colab": {}
      },
      "cell_type": "code",
      "source": [
        "from sklearn.preprocessing import MinMaxScaler\n",
        "min_max_scaler = MinMaxScaler().fit_transform(X.values)\n",
        "X  = pd.DataFrame(min_max_scaler)"
      ],
      "execution_count": 0,
      "outputs": []
    },
    {
      "metadata": {
        "id": "sc3RrToLRiRQ",
        "colab_type": "code",
        "outputId": "7ad3b976-78e4-4eb3-d6c8-b3053ea14a86",
        "colab": {
          "base_uri": "https://localhost:8080/",
          "height": 346
        }
      },
      "cell_type": "code",
      "source": [
        "X.describe(include = 'all')"
      ],
      "execution_count": 0,
      "outputs": [
        {
          "output_type": "execute_result",
          "data": {
            "text/html": [
              "<div>\n",
              "<style scoped>\n",
              "    .dataframe tbody tr th:only-of-type {\n",
              "        vertical-align: middle;\n",
              "    }\n",
              "\n",
              "    .dataframe tbody tr th {\n",
              "        vertical-align: top;\n",
              "    }\n",
              "\n",
              "    .dataframe thead th {\n",
              "        text-align: right;\n",
              "    }\n",
              "</style>\n",
              "<table border=\"1\" class=\"dataframe\">\n",
              "  <thead>\n",
              "    <tr style=\"text-align: right;\">\n",
              "      <th></th>\n",
              "      <th>0</th>\n",
              "      <th>1</th>\n",
              "      <th>2</th>\n",
              "      <th>3</th>\n",
              "      <th>4</th>\n",
              "      <th>5</th>\n",
              "      <th>6</th>\n",
              "      <th>7</th>\n",
              "      <th>8</th>\n",
              "      <th>9</th>\n",
              "      <th>...</th>\n",
              "      <th>35</th>\n",
              "      <th>36</th>\n",
              "      <th>37</th>\n",
              "      <th>38</th>\n",
              "      <th>39</th>\n",
              "      <th>40</th>\n",
              "      <th>41</th>\n",
              "      <th>42</th>\n",
              "      <th>43</th>\n",
              "      <th>44</th>\n",
              "    </tr>\n",
              "  </thead>\n",
              "  <tbody>\n",
              "    <tr>\n",
              "      <th>count</th>\n",
              "      <td>22487.000000</td>\n",
              "      <td>22487.000000</td>\n",
              "      <td>22487.000000</td>\n",
              "      <td>22487.000000</td>\n",
              "      <td>22487.000000</td>\n",
              "      <td>22487.000000</td>\n",
              "      <td>22487.000000</td>\n",
              "      <td>22487.000000</td>\n",
              "      <td>22487.000000</td>\n",
              "      <td>22487.000000</td>\n",
              "      <td>...</td>\n",
              "      <td>22487.000000</td>\n",
              "      <td>22487.000000</td>\n",
              "      <td>22487.000000</td>\n",
              "      <td>22487.000000</td>\n",
              "      <td>22487.000000</td>\n",
              "      <td>22487.000000</td>\n",
              "      <td>22487.000000</td>\n",
              "      <td>22487.000000</td>\n",
              "      <td>22487.000000</td>\n",
              "      <td>22487.000000</td>\n",
              "    </tr>\n",
              "    <tr>\n",
              "      <th>mean</th>\n",
              "      <td>0.563905</td>\n",
              "      <td>0.090185</td>\n",
              "      <td>0.009027</td>\n",
              "      <td>0.276735</td>\n",
              "      <td>0.279399</td>\n",
              "      <td>0.004499</td>\n",
              "      <td>0.275946</td>\n",
              "      <td>0.002579</td>\n",
              "      <td>0.027127</td>\n",
              "      <td>0.004358</td>\n",
              "      <td>...</td>\n",
              "      <td>0.118068</td>\n",
              "      <td>0.062481</td>\n",
              "      <td>0.071686</td>\n",
              "      <td>0.018811</td>\n",
              "      <td>0.092854</td>\n",
              "      <td>0.033264</td>\n",
              "      <td>0.104282</td>\n",
              "      <td>0.064437</td>\n",
              "      <td>0.032908</td>\n",
              "      <td>0.405062</td>\n",
              "    </tr>\n",
              "    <tr>\n",
              "      <th>std</th>\n",
              "      <td>0.218679</td>\n",
              "      <td>0.286454</td>\n",
              "      <td>0.027616</td>\n",
              "      <td>0.239311</td>\n",
              "      <td>0.261287</td>\n",
              "      <td>0.020744</td>\n",
              "      <td>0.137478</td>\n",
              "      <td>0.050722</td>\n",
              "      <td>0.162456</td>\n",
              "      <td>0.065873</td>\n",
              "      <td>...</td>\n",
              "      <td>0.322696</td>\n",
              "      <td>0.242032</td>\n",
              "      <td>0.257973</td>\n",
              "      <td>0.135860</td>\n",
              "      <td>0.290234</td>\n",
              "      <td>0.179328</td>\n",
              "      <td>0.305633</td>\n",
              "      <td>0.245536</td>\n",
              "      <td>0.178400</td>\n",
              "      <td>0.297603</td>\n",
              "    </tr>\n",
              "    <tr>\n",
              "      <th>min</th>\n",
              "      <td>0.000000</td>\n",
              "      <td>0.000000</td>\n",
              "      <td>0.000000</td>\n",
              "      <td>0.000000</td>\n",
              "      <td>0.000000</td>\n",
              "      <td>0.000000</td>\n",
              "      <td>0.000000</td>\n",
              "      <td>0.000000</td>\n",
              "      <td>0.000000</td>\n",
              "      <td>0.000000</td>\n",
              "      <td>...</td>\n",
              "      <td>0.000000</td>\n",
              "      <td>0.000000</td>\n",
              "      <td>0.000000</td>\n",
              "      <td>0.000000</td>\n",
              "      <td>0.000000</td>\n",
              "      <td>0.000000</td>\n",
              "      <td>0.000000</td>\n",
              "      <td>0.000000</td>\n",
              "      <td>0.000000</td>\n",
              "      <td>0.000000</td>\n",
              "    </tr>\n",
              "    <tr>\n",
              "      <th>25%</th>\n",
              "      <td>0.473191</td>\n",
              "      <td>0.000000</td>\n",
              "      <td>0.000476</td>\n",
              "      <td>0.111111</td>\n",
              "      <td>0.062320</td>\n",
              "      <td>0.000127</td>\n",
              "      <td>0.160541</td>\n",
              "      <td>0.000000</td>\n",
              "      <td>0.000000</td>\n",
              "      <td>0.000000</td>\n",
              "      <td>...</td>\n",
              "      <td>0.000000</td>\n",
              "      <td>0.000000</td>\n",
              "      <td>0.000000</td>\n",
              "      <td>0.000000</td>\n",
              "      <td>0.000000</td>\n",
              "      <td>0.000000</td>\n",
              "      <td>0.000000</td>\n",
              "      <td>0.000000</td>\n",
              "      <td>0.000000</td>\n",
              "      <td>0.090909</td>\n",
              "    </tr>\n",
              "    <tr>\n",
              "      <th>50%</th>\n",
              "      <td>0.473191</td>\n",
              "      <td>0.000000</td>\n",
              "      <td>0.002538</td>\n",
              "      <td>0.222222</td>\n",
              "      <td>0.187074</td>\n",
              "      <td>0.000895</td>\n",
              "      <td>0.275961</td>\n",
              "      <td>0.000000</td>\n",
              "      <td>0.000000</td>\n",
              "      <td>0.000000</td>\n",
              "      <td>...</td>\n",
              "      <td>0.000000</td>\n",
              "      <td>0.000000</td>\n",
              "      <td>0.000000</td>\n",
              "      <td>0.000000</td>\n",
              "      <td>0.000000</td>\n",
              "      <td>0.000000</td>\n",
              "      <td>0.000000</td>\n",
              "      <td>0.000000</td>\n",
              "      <td>0.000000</td>\n",
              "      <td>0.363636</td>\n",
              "    </tr>\n",
              "    <tr>\n",
              "      <th>75%</th>\n",
              "      <td>0.648550</td>\n",
              "      <td>0.000000</td>\n",
              "      <td>0.007773</td>\n",
              "      <td>0.388889</td>\n",
              "      <td>0.427896</td>\n",
              "      <td>0.003512</td>\n",
              "      <td>0.393807</td>\n",
              "      <td>0.000000</td>\n",
              "      <td>0.000000</td>\n",
              "      <td>0.000000</td>\n",
              "      <td>...</td>\n",
              "      <td>0.000000</td>\n",
              "      <td>0.000000</td>\n",
              "      <td>0.000000</td>\n",
              "      <td>0.000000</td>\n",
              "      <td>0.000000</td>\n",
              "      <td>0.000000</td>\n",
              "      <td>0.000000</td>\n",
              "      <td>0.000000</td>\n",
              "      <td>0.000000</td>\n",
              "      <td>0.636364</td>\n",
              "    </tr>\n",
              "    <tr>\n",
              "      <th>max</th>\n",
              "      <td>1.000000</td>\n",
              "      <td>1.000000</td>\n",
              "      <td>1.000000</td>\n",
              "      <td>1.000000</td>\n",
              "      <td>1.000000</td>\n",
              "      <td>1.000000</td>\n",
              "      <td>1.000000</td>\n",
              "      <td>1.000000</td>\n",
              "      <td>1.000000</td>\n",
              "      <td>1.000000</td>\n",
              "      <td>...</td>\n",
              "      <td>1.000000</td>\n",
              "      <td>1.000000</td>\n",
              "      <td>1.000000</td>\n",
              "      <td>1.000000</td>\n",
              "      <td>1.000000</td>\n",
              "      <td>1.000000</td>\n",
              "      <td>1.000000</td>\n",
              "      <td>1.000000</td>\n",
              "      <td>1.000000</td>\n",
              "      <td>1.000000</td>\n",
              "    </tr>\n",
              "  </tbody>\n",
              "</table>\n",
              "<p>8 rows × 45 columns</p>\n",
              "</div>"
            ],
            "text/plain": [
              "                 0             1             2             3             4   \\\n",
              "count  22487.000000  22487.000000  22487.000000  22487.000000  22487.000000   \n",
              "mean       0.563905      0.090185      0.009027      0.276735      0.279399   \n",
              "std        0.218679      0.286454      0.027616      0.239311      0.261287   \n",
              "min        0.000000      0.000000      0.000000      0.000000      0.000000   \n",
              "25%        0.473191      0.000000      0.000476      0.111111      0.062320   \n",
              "50%        0.473191      0.000000      0.002538      0.222222      0.187074   \n",
              "75%        0.648550      0.000000      0.007773      0.388889      0.427896   \n",
              "max        1.000000      1.000000      1.000000      1.000000      1.000000   \n",
              "\n",
              "                 5             6             7             8             9   \\\n",
              "count  22487.000000  22487.000000  22487.000000  22487.000000  22487.000000   \n",
              "mean       0.004499      0.275946      0.002579      0.027127      0.004358   \n",
              "std        0.020744      0.137478      0.050722      0.162456      0.065873   \n",
              "min        0.000000      0.000000      0.000000      0.000000      0.000000   \n",
              "25%        0.000127      0.160541      0.000000      0.000000      0.000000   \n",
              "50%        0.000895      0.275961      0.000000      0.000000      0.000000   \n",
              "75%        0.003512      0.393807      0.000000      0.000000      0.000000   \n",
              "max        1.000000      1.000000      1.000000      1.000000      1.000000   \n",
              "\n",
              "           ...                 35            36            37            38  \\\n",
              "count      ...       22487.000000  22487.000000  22487.000000  22487.000000   \n",
              "mean       ...           0.118068      0.062481      0.071686      0.018811   \n",
              "std        ...           0.322696      0.242032      0.257973      0.135860   \n",
              "min        ...           0.000000      0.000000      0.000000      0.000000   \n",
              "25%        ...           0.000000      0.000000      0.000000      0.000000   \n",
              "50%        ...           0.000000      0.000000      0.000000      0.000000   \n",
              "75%        ...           0.000000      0.000000      0.000000      0.000000   \n",
              "max        ...           1.000000      1.000000      1.000000      1.000000   \n",
              "\n",
              "                 39            40            41            42            43  \\\n",
              "count  22487.000000  22487.000000  22487.000000  22487.000000  22487.000000   \n",
              "mean       0.092854      0.033264      0.104282      0.064437      0.032908   \n",
              "std        0.290234      0.179328      0.305633      0.245536      0.178400   \n",
              "min        0.000000      0.000000      0.000000      0.000000      0.000000   \n",
              "25%        0.000000      0.000000      0.000000      0.000000      0.000000   \n",
              "50%        0.000000      0.000000      0.000000      0.000000      0.000000   \n",
              "75%        0.000000      0.000000      0.000000      0.000000      0.000000   \n",
              "max        1.000000      1.000000      1.000000      1.000000      1.000000   \n",
              "\n",
              "                 44  \n",
              "count  22487.000000  \n",
              "mean       0.405062  \n",
              "std        0.297603  \n",
              "min        0.000000  \n",
              "25%        0.090909  \n",
              "50%        0.363636  \n",
              "75%        0.636364  \n",
              "max        1.000000  \n",
              "\n",
              "[8 rows x 45 columns]"
            ]
          },
          "metadata": {
            "tags": []
          },
          "execution_count": 5
        }
      ]
    },
    {
      "metadata": {
        "id": "7Yb7NAKlRyvN",
        "colab_type": "code",
        "outputId": "51292e76-bbb2-4446-94ab-eeae8985b92a",
        "colab": {
          "base_uri": "https://localhost:8080/",
          "height": 85
        }
      },
      "cell_type": "code",
      "source": [
        "from sklearn.model_selection import train_test_split\n",
        "\n",
        "X_train, X_test, Y_train, Y_test = train_test_split (X, Y, test_size = 0.3)\n",
        "\n",
        "print('X_train.shape: ', X_train.shape)\n",
        "print('X_test.shape: ', X_test.shape)\n",
        "print('Y_train.shape: ', Y_train.shape)\n",
        "print('Y_test.shape: ', Y_test.shape)\n"
      ],
      "execution_count": 0,
      "outputs": [
        {
          "output_type": "stream",
          "text": [
            "X_train.shape:  (15740, 45)\n",
            "X_test.shape:  (6747, 45)\n",
            "Y_train.shape:  (15740,)\n",
            "Y_test.shape:  (6747,)\n"
          ],
          "name": "stdout"
        }
      ]
    },
    {
      "metadata": {
        "id": "gC_ZeYcoSROU",
        "colab_type": "code",
        "colab": {}
      },
      "cell_type": "code",
      "source": [
        "from sklearn.model_selection import KFold\n",
        "from sklearn.neighbors import KNeighborsClassifier\n",
        "import numpy as np\n",
        "\n",
        "\n",
        "krange = range(10,20)\n",
        "kf = KFold(n_splits=10)\n",
        "  \n",
        "\n",
        "scores = []\n",
        "for k in krange:\n",
        "  kscores = []\n",
        "  for train_index, test_index in kf.split(X_train):\n",
        "    Xk_train, Yk_train = X_train.iloc[train_index], Y_train.iloc[train_index]\n",
        "    Xk_test, Yk_test = X_train.iloc[test_index], Y_train.iloc[test_index]\n",
        "    neigh = KNeighborsClassifier(n_neighbors=k)\n",
        "    neigh.fit(Xk_train, Yk_train) \n",
        "    kscores.append(neigh.score(Xk_test, Yk_test))  \n",
        "  scores.append( np.mean(kscores))"
      ],
      "execution_count": 0,
      "outputs": []
    },
    {
      "metadata": {
        "id": "QDN71hlXqECR",
        "colab_type": "code",
        "outputId": "153a7787-d0c3-4904-9863-be6002f8a762",
        "colab": {
          "base_uri": "https://localhost:8080/",
          "height": 34
        }
      },
      "cell_type": "code",
      "source": [
        "neigh = KNeighborsClassifier(n_neighbors=best_knn[0] + 10)\n",
        "neigh.fit(X_train, Y_train) \n",
        "print(neigh.score(Xk_test, Yk_test))  "
      ],
      "execution_count": 0,
      "outputs": [
        {
          "output_type": "stream",
          "text": [
            "0.7865311308767471\n"
          ],
          "name": "stdout"
        }
      ]
    },
    {
      "metadata": {
        "id": "EycI_6MQcbGl",
        "colab_type": "code",
        "outputId": "4e7ac309-7f7d-4344-96ae-fc77dbed2e95",
        "colab": {
          "base_uri": "https://localhost:8080/",
          "height": 34
        }
      },
      "cell_type": "code",
      "source": [
        "#print(scores)\n",
        "best_knn = np.argsort(scores)[::-1]\n",
        "print(best_knn[0:4])\n"
      ],
      "execution_count": 0,
      "outputs": [
        {
          "output_type": "stream",
          "text": [
            "[0 1 3 2]\n"
          ],
          "name": "stdout"
        }
      ]
    },
    {
      "metadata": {
        "id": "lI67vtIUdDv7",
        "colab_type": "code",
        "colab": {}
      },
      "cell_type": "code",
      "source": [
        "final_scores = []\n",
        "categories_list = []\n",
        "countries_list = []\n",
        "\n",
        "kf = KFold(n_splits=10)\n",
        "  \n",
        "for train_index, test_index in kf.split(X_train):\n",
        "  Xk_train, Yk_train = X.iloc[train_index], Y.iloc[train_index]\n",
        "  Xk_test, Yk_test = X.iloc[test_index], Y.iloc[test_index]\n",
        "  X_test_cate, Y_test_cate = X_categories.iloc[test_index], Y_categories.iloc[test_index]\n",
        "  \n",
        "  neigh = KNeighborsClassifier(n_neighbors=best_knn[0] + 10)\n",
        "  neigh.fit(Xk_train, Yk_train) \n",
        "  succ_cate = X_test_cate['categories'][neigh.predict(Xk_test) == 1]\n",
        "  succ_country = X_test_cate['countries'][neigh.predict(Xk_test) == 1 ]\n",
        "  for cate in succ_cate:\n",
        "      categories_list.append(cate)  \n",
        "  for country in succ_country:\n",
        "      countries_list.append(country)  \n",
        "\n",
        "      \n",
        "\n",
        "    "
      ],
      "execution_count": 0,
      "outputs": []
    },
    {
      "metadata": {
        "id": "UHHPFRi5pbr1",
        "colab_type": "code",
        "outputId": "f2e2c5a1-9e9e-42e2-af9c-f073c1e2f718",
        "colab": {
          "base_uri": "https://localhost:8080/",
          "height": 34
        }
      },
      "cell_type": "code",
      "source": [
        "print(final_scores)"
      ],
      "execution_count": 0,
      "outputs": [
        {
          "output_type": "stream",
          "text": [
            "[0.6233881725211204]\n"
          ],
          "name": "stdout"
        }
      ]
    },
    {
      "metadata": {
        "id": "yTP84kZcc-nx",
        "colab_type": "code",
        "outputId": "667eb7fd-3534-4c0b-bcd6-25c9b18f074d",
        "colab": {
          "base_uri": "https://localhost:8080/",
          "height": 815
        }
      },
      "cell_type": "code",
      "source": [
        "\n",
        "import matplotlib.pyplot as plt\n",
        "\n",
        "import seaborn as sb\n",
        "\n",
        "sb.countplot(x = 'categories', data = datos_categories)\n",
        "plt.xticks(rotation=90)\n",
        "\n",
        "plt.show()\n",
        "\n",
        "cm = plt.cm.get_cmap('inferno')\n",
        "\n",
        "# Plot histogram.\n",
        "n, bins, patches = plt.hist(categories_list, 15, normed=1, color='green')\n",
        "plt.xticks(rotation=90)\n",
        "\n",
        "bin_centers = 0.5 * (bins[:-1] + bins[1:])\n",
        "\n",
        "# scale values to interval [0,1]\n",
        "col = bin_centers - min(bin_centers)\n",
        "col /= max(col)\n",
        "\n",
        "for c, p in zip(col, patches):\n",
        "    plt.setp(p, 'facecolor', cm(c))\n",
        "\n",
        "plt.show()"
      ],
      "execution_count": 0,
      "outputs": [
        {
          "output_type": "stream",
          "text": [
            "/usr/local/lib/python3.6/dist-packages/seaborn/categorical.py:1428: FutureWarning: remove_na is deprecated and is a private function. Do not use.\n",
            "  stat_data = remove_na(group_data)\n"
          ],
          "name": "stderr"
        },
        {
          "output_type": "display_data",
          "data": {
            "image/png": "[encoded data removed]",
            "text/plain": [
              "<matplotlib.figure.Figure at 0x7f96e9eb3470>"
            ]
          },
          "metadata": {
            "tags": []
          }
        },
        {
          "output_type": "display_data",
          "data": {
            "image/png": "[encoded data removed]",
            "text/plain": [
              "<matplotlib.figure.Figure at 0x7f96e9bef940>"
            ]
          },
          "metadata": {
            "tags": []
          }
        }
      ]
    },
    {
      "metadata": {
        "id": "fya8ln0yjzpl",
        "colab_type": "code",
        "outputId": "73edd652-8013-4453-fe67-411d7a9f5a5c",
        "colab": {
          "base_uri": "https://localhost:8080/",
          "height": 730
        }
      },
      "cell_type": "code",
      "source": [
        "\n",
        "import matplotlib.pyplot as plt\n",
        "\n",
        "import seaborn as sb\n",
        "\n",
        "sb.countplot(x = 'countries', data = datos_categories)\n",
        "plt.show()\n",
        "\n",
        "cm = plt.cm.get_cmap('Pastel2')\n",
        "\n",
        "# Plot histogram.\n",
        "n, bins, patches = plt.hist(countries_list, bins = 24, normed=1, color='green')\n",
        "plt.xticks(rotation=90)\n",
        "\n",
        "bin_centers = 0.5 * (bins[:-1] + bins[1:])\n",
        "\n",
        "# scale values to interval [0,1]\n",
        "col = bin_centers - min(bin_centers)\n",
        "col /= max(col)\n",
        "\n",
        "for c, p in zip(col, patches):\n",
        "    plt.setp(p, 'facecolor', cm(c))\n",
        "\n",
        "plt.show()"
      ],
      "execution_count": 0,
      "outputs": [
        {
          "output_type": "stream",
          "text": [
            "/usr/local/lib/python3.6/dist-packages/seaborn/categorical.py:1428: FutureWarning: remove_na is deprecated and is a private function. Do not use.\n",
            "  stat_data = remove_na(group_data)\n"
          ],
          "name": "stderr"
        },
        {
          "output_type": "display_data",
          "data": {
            "image/png": "[encoded data removed]",
            "text/plain": [
              "<matplotlib.figure.Figure at 0x7f96e982ec50>"
            ]
          },
          "metadata": {
            "tags": []
          }
        },
        {
          "output_type": "display_data",
          "data": {
            "image/png": "[encoded data removed]",
            "text/plain": [
              "<matplotlib.figure.Figure at 0x7f96e97d8d30>"
            ]
          },
          "metadata": {
            "tags": []
          }
        }
      ]
    },
    {
      "metadata": {
        "id": "D3bChSOCe2N2",
        "colab_type": "code",
        "colab": {}
      },
      "cell_type": "code",
      "source": [
        "plt.hist?"
      ],
      "execution_count": 0,
      "outputs": []
    },
    {
      "metadata": {
        "id": "tnCu4yAhQGCt",
        "colab_type": "code",
        "outputId": "13d40a15-e7e0-4a3b-e97d-48eb34a3a40e",
        "colab": {
          "base_uri": "https://localhost:8080/",
          "height": 214
        }
      },
      "cell_type": "code",
      "source": [
        "datos_countries.columns\n",
        "\n",
        "# category columns:\n",
        "# 34(-4) - 48(-4) = 14"
      ],
      "execution_count": 0,
      "outputs": [
        {
          "output_type": "error",
          "ename": "NameError",
          "evalue": "ignored",
          "traceback": [
            "\u001b[0;31m---------------------------------------------------------------------------\u001b[0m",
            "\u001b[0;31mNameError\u001b[0m                                 Traceback (most recent call last)",
            "\u001b[0;32m<ipython-input-83-d5c50ce308b8>\u001b[0m in \u001b[0;36m<module>\u001b[0;34m()\u001b[0m\n\u001b[0;32m----> 1\u001b[0;31m \u001b[0mdatos_countries\u001b[0m\u001b[0;34m.\u001b[0m\u001b[0mcolumns\u001b[0m\u001b[0;34m\u001b[0m\u001b[0;34m\u001b[0m\u001b[0m\n\u001b[0m\u001b[1;32m      2\u001b[0m \u001b[0;34m\u001b[0m\u001b[0m\n\u001b[1;32m      3\u001b[0m \u001b[0;31m# category columns:\u001b[0m\u001b[0;34m\u001b[0m\u001b[0;34m\u001b[0m\u001b[0;34m\u001b[0m\u001b[0m\n\u001b[1;32m      4\u001b[0m \u001b[0;31m# 34(-4) - 48(-4) = 14\u001b[0m\u001b[0;34m\u001b[0m\u001b[0;34m\u001b[0m\u001b[0;34m\u001b[0m\u001b[0m\n",
            "\u001b[0;31mNameError\u001b[0m: name 'datos_countries' is not defined"
          ]
        }
      ]
    },
    {
      "metadata": {
        "id": "dGIFb22_UUQq",
        "colab_type": "code",
        "outputId": "0f0bf481-f941-48b8-97d1-a4a9b931d181",
        "colab": {
          "base_uri": "https://localhost:8080/",
          "height": 221
        }
      },
      "cell_type": "code",
      "source": [
        "np.matrix(X)[34]"
      ],
      "execution_count": 0,
      "outputs": [
        {
          "output_type": "execute_result",
          "data": {
            "text/plain": [
              "matrix([[1.92615906e-01, 0.00000000e+00, 1.90355330e-03, 1.66666667e-01,\n",
              "         1.00119119e-02, 4.28692905e-04, 2.56742984e-01, 0.00000000e+00,\n",
              "         0.00000000e+00, 0.00000000e+00, 0.00000000e+00, 0.00000000e+00,\n",
              "         0.00000000e+00, 1.00000000e+00, 0.00000000e+00, 0.00000000e+00,\n",
              "         0.00000000e+00, 0.00000000e+00, 0.00000000e+00, 0.00000000e+00,\n",
              "         0.00000000e+00, 0.00000000e+00, 0.00000000e+00, 0.00000000e+00,\n",
              "         0.00000000e+00, 0.00000000e+00, 0.00000000e+00, 0.00000000e+00,\n",
              "         0.00000000e+00, 1.00000000e+00, 0.00000000e+00, 0.00000000e+00,\n",
              "         0.00000000e+00, 0.00000000e+00, 0.00000000e+00, 0.00000000e+00,\n",
              "         0.00000000e+00, 0.00000000e+00, 0.00000000e+00, 0.00000000e+00,\n",
              "         0.00000000e+00, 0.00000000e+00, 0.00000000e+00, 0.00000000e+00,\n",
              "         0.00000000e+00]])"
            ]
          },
          "metadata": {
            "tags": []
          },
          "execution_count": 30
        }
      ]
    },
    {
      "metadata": {
        "id": "KW__R8qAQF9J",
        "colab_type": "code",
        "outputId": "c1743421-110f-4bef-fb86-0c091d802a58",
        "colab": {
          "base_uri": "https://localhost:8080/",
          "height": 34
        }
      },
      "cell_type": "code",
      "source": [
        "np.mean(datos['usd_pledged'])"
      ],
      "execution_count": 0,
      "outputs": [
        {
          "output_type": "execute_result",
          "data": {
            "text/plain": [
              "6138.688886404925"
            ]
          },
          "metadata": {
            "tags": []
          },
          "execution_count": 113
        }
      ]
    }
  ]
}